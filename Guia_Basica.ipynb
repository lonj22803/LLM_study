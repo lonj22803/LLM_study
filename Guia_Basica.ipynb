{
 "cells": [
  {
   "metadata": {},
   "cell_type": "markdown",
   "source": [
    "# Estudio inicial de como funciona un LLM\n",
    "___\n",
    "### Juan Jose Londoño Cardenas\n",
    "### Universidad Politécnica de Madrid\n",
    "### Junio/2025"
   ],
   "id": "8974c5f5343ab525"
  },
  {
   "metadata": {},
   "cell_type": "markdown",
   "source": [
    "Como primera medida, haremos Fine Tuning de un modelo LLM preentrenado, con el fin de entender mas su uso al principio. Si se desea conocer desde cero la construccion de un LLM, se recomienda el otro repositorio donde partimos desde cero, en una regresion lineal basica y vamos avanzando hasta un LLM.\n",
    "\n",
    "- https://github.com/lonj22803/estudio_doctorado_I"
   ],
   "id": "2815f84d211449e6"
  },
  {
   "metadata": {
    "ExecuteTime": {
     "end_time": "2025-06-23T13:00:39.325306Z",
     "start_time": "2025-06-23T13:00:39.322887Z"
    }
   },
   "cell_type": "code",
   "source": "",
   "id": "3bd65eaec6a18add",
   "outputs": [],
   "execution_count": null
  },
  {
   "metadata": {},
   "cell_type": "code",
   "outputs": [],
   "execution_count": null,
   "source": "",
   "id": "a58dab866fcb4dd0"
  },
  {
   "metadata": {},
   "cell_type": "code",
   "outputs": [],
   "execution_count": null,
   "source": "",
   "id": "aaaddf63d836e2b1"
  }
 ],
 "metadata": {
  "kernelspec": {
   "display_name": "Python 3",
   "language": "python",
   "name": "python3"
  },
  "language_info": {
   "codemirror_mode": {
    "name": "ipython",
    "version": 2
   },
   "file_extension": ".py",
   "mimetype": "text/x-python",
   "name": "python",
   "nbconvert_exporter": "python",
   "pygments_lexer": "ipython2",
   "version": "2.7.6"
  }
 },
 "nbformat": 4,
 "nbformat_minor": 5
}
